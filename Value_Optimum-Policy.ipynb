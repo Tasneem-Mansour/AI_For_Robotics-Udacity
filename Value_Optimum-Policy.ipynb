{
 "cells": [
  {
   "cell_type": "code",
   "execution_count": 14,
   "metadata": {},
   "outputs": [
    {
     "data": {
      "text/plain": [
       "[['v', 'v', ' ', 'v', 'v', 'v'],\n",
       " ['v', 'v', ' ', 'v', 'v', 'v'],\n",
       " ['v', 'v', ' ', '>', '>', 'v'],\n",
       " ['>', '>', '>', '^', ' ', 'v'],\n",
       " ['^', '^', ' ', ' ', ' ', 'v'],\n",
       " ['^', '^', '<', '<', ' ', '*']]"
      ]
     },
     "execution_count": 14,
     "metadata": {},
     "output_type": "execute_result"
    }
   ],
   "source": [
    "# ----------\n",
    "# User Instructions:\n",
    "# \n",
    "# Create a function compute_value which returns\n",
    "# a grid of values. The value of a cell is the minimum\n",
    "# number of moves required to get from the cell to the goal. \n",
    "#\n",
    "# If a cell is a wall or it is impossible to reach the goal from a cell,\n",
    "# assign that cell a value of 99.\n",
    "# ----------\n",
    "\n",
    "grid = [[0, 0, 1, 0, 0, 0],\n",
    "        [0, 0, 1, 0, 0, 0],\n",
    "        [0, 0, 1, 0, 0, 0],\n",
    "        [0, 0, 0, 0, 1, 0],\n",
    "        [0, 0, 1, 1, 1, 0],\n",
    "        [0, 0, 0, 0, 1, 0]]\n",
    "goal = [len(grid)-1, len(grid[0])-1]\n",
    "cost = 1 # the cost associated with moving from a cell to an adjacent one\n",
    "\n",
    "delta = [[-1, 0 ], # go up\n",
    "         [ 0, -1], # go left\n",
    "         [ 1, 0 ], # go down\n",
    "         [ 0, 1 ]] # go right\n",
    "\n",
    "delta_name = ['^', '<', 'v', '>']\n",
    "\n",
    "def optimum_policy(grid,goal,cost):\n",
    "    action = [[' ' for row in range(len(grid[0]))] for col in range(len(grid))]\n",
    "    value  = [[99 for row in range(len(grid[0]))] for col in range(len(grid))]\n",
    "    change = True\n",
    "\n",
    "    while change:\n",
    "        change = False\n",
    "        for x in range(len(grid)):\n",
    "            for y in range(len(grid[0])):\n",
    "\n",
    "                if x == goal[0] and y == goal[1]:\n",
    "                    if value[x][y] > 0:      #check for change\n",
    "                        value[x][y] = 0      #replace goal cell with 0 if it is = 99\n",
    "                        action[x][y] = '*' \n",
    "                        change = True        #u changed smth so set the flag to True\n",
    "\n",
    "                elif grid[x][y] == 0:        #if it is not the goal cell\n",
    "                    for i in range(len(delta)):\n",
    "                        x2 = x + delta[i][0]\n",
    "                        y2 = y + delta[i][1]\n",
    "                        if x2 >= 0 and x2 < len(grid) and y2 >=0 and y2 < len(grid[0]) and grid[x2][y2] == 0:\n",
    "                            value2 = value[x2][y2] + cost\n",
    "                            if value2 < value[x][y]:   #if this value is smaller than the existed value then replace the old by the new one\n",
    "                                value[x][y] = value2\n",
    "                                change = True          #u changed smth so set the flag to True\n",
    "                                action[x][y] = delta_name[i]          \n",
    "    return action \n",
    "optimum_policy(grid,goal,cost)"
   ]
  },
  {
   "cell_type": "code",
   "execution_count": null,
   "metadata": {},
   "outputs": [],
   "source": []
  }
 ],
 "metadata": {
  "kernelspec": {
   "display_name": "Python 3.9.12 ('base')",
   "language": "python",
   "name": "python3"
  },
  "language_info": {
   "codemirror_mode": {
    "name": "ipython",
    "version": 3
   },
   "file_extension": ".py",
   "mimetype": "text/x-python",
   "name": "python",
   "nbconvert_exporter": "python",
   "pygments_lexer": "ipython3",
   "version": "3.9.12"
  },
  "orig_nbformat": 4,
  "vscode": {
   "interpreter": {
    "hash": "e572caa66b9d49951af5480c4e65bd874b4d163b9e077ed4369f2912d83d117b"
   }
  }
 },
 "nbformat": 4,
 "nbformat_minor": 2
}
